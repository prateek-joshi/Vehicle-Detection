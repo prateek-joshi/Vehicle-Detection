{
 "cells": [
  {
   "cell_type": "code",
   "execution_count": 1,
   "id": "ab0ff6bd",
   "metadata": {},
   "outputs": [],
   "source": [
    "import os"
   ]
  },
  {
   "cell_type": "code",
   "execution_count": 2,
   "id": "33fab636",
   "metadata": {},
   "outputs": [],
   "source": [
    "CUSTOM_MODEL_NAME = 'my_ssd_mobnet' \n",
    "PRETRAINED_MODEL_NAME = 'ssd_mobilenet_v2_fpnlite_320x320_coco17_tpu-8'\n",
    "PRETRAINED_MODEL_URL = 'http://download.tensorflow.org/models/object_detection/tf2/20200711/ssd_mobilenet_v2_fpnlite_320x320_coco17_tpu-8.tar.gz'\n",
    "TF_RECORD_SCRIPT_NAME = 'generate_tfrecord.py'\n",
    "LABEL_MAP_NAME = 'label_map.pbtxt'"
   ]
  },
  {
   "cell_type": "code",
   "execution_count": 3,
   "id": "5dbcc8c5",
   "metadata": {},
   "outputs": [],
   "source": [
    "paths = {\n",
    "    'WORKSPACE_PATH': os.path.join('Tensorflow', 'workspace'),\n",
    "    'SCRIPTS_PATH': os.path.join('Tensorflow','scripts'),\n",
    "    'APIMODEL_PATH': os.path.join('Tensorflow','models'),\n",
    "    'ANNOTATION_PATH': os.path.join('Tensorflow', 'workspace','annotations'),\n",
    "    'IMAGE_PATH': os.path.join('Tensorflow', 'workspace','images'),\n",
    "    'MODEL_PATH': os.path.join('Tensorflow', 'workspace','models'),\n",
    "    'PRETRAINED_MODEL_PATH': os.path.join('Tensorflow', 'workspace','pre-trained-models'),\n",
    "    'CHECKPOINT_PATH': os.path.join('Tensorflow', 'workspace','models',CUSTOM_MODEL_NAME), \n",
    "    'OUTPUT_PATH': os.path.join('Tensorflow', 'workspace','models',CUSTOM_MODEL_NAME, 'export'), \n",
    "    'TFJS_PATH':os.path.join('Tensorflow', 'workspace','models',CUSTOM_MODEL_NAME, 'tfjsexport'), \n",
    "    'TFLITE_PATH':os.path.join('Tensorflow', 'workspace','models',CUSTOM_MODEL_NAME, 'tfliteexport'), \n",
    "    'PROTOC_PATH':os.path.join('Tensorflow','protoc')\n",
    " }"
   ]
  },
  {
   "cell_type": "code",
   "execution_count": 4,
   "id": "c34f2e71",
   "metadata": {},
   "outputs": [],
   "source": [
    "files = {\n",
    "    'PIPELINE_CONFIG':os.path.join('Tensorflow', 'workspace','models', CUSTOM_MODEL_NAME, 'pipeline.config'),\n",
    "    'TF_RECORD_SCRIPT': os.path.join(paths['SCRIPTS_PATH'], TF_RECORD_SCRIPT_NAME), \n",
    "    'LABELMAP': os.path.join(paths['ANNOTATION_PATH'], LABEL_MAP_NAME)\n",
    "}"
   ]
  },
  {
   "cell_type": "code",
   "execution_count": 5,
   "id": "cd534a62",
   "metadata": {},
   "outputs": [],
   "source": [
    "for path in paths.values():\n",
    "    if not os.path.exists(path):\n",
    "        if os.name == 'posix':\n",
    "            !mkdir -p {path}\n",
    "        if os.name == 'nt':\n",
    "            !mkdir {path}"
   ]
  },
  {
   "cell_type": "code",
   "execution_count": null,
   "id": "9766d3d3",
   "metadata": {},
   "outputs": [],
   "source": [
    "if os.name=='nt':\n",
    "    !pip install wget\n",
    "    import wget"
   ]
  },
  {
   "cell_type": "code",
   "execution_count": null,
   "id": "60b88cb3",
   "metadata": {
    "scrolled": true
   },
   "outputs": [],
   "source": [
    "if not os.path.exists(os.path.join(paths['APIMODEL_PATH'], 'research', 'object_detection')):\n",
    "    !git clone https://github.com/tensorflow/models {paths['APIMODEL_PATH']}"
   ]
  },
  {
   "cell_type": "code",
   "execution_count": null,
   "id": "212fb986",
   "metadata": {},
   "outputs": [],
   "source": [
    "if os.name=='nt':\n",
    "    url=\"https://github.com/protocolbuffers/protobuf/releases/download/v3.15.6/protoc-3.15.6-win64.zip\"\n",
    "    wget.download(url)\n",
    "    !move protoc-3.15.6-win64.zip {paths['PROTOC_PATH']}\n",
    "    !cd {paths['PROTOC_PATH']} && tar -xf protoc-3.15.6-win64.zip\n",
    "    os.environ['PATH'] += os.pathsep + os.path.abspath(os.path.join(paths['PROTOC_PATH'], 'bin'))   \n",
    "    !cd Tensorflow/models/research && protoc object_detection/protos/*.proto --python_out=. && copy object_detection\\\\packages\\\\tf2\\\\setup.py setup.py && python setup.py build && python setup.py install\n",
    "    !cd Tensorflow/models/research/slim && pip install -e ."
   ]
  },
  {
   "cell_type": "code",
   "execution_count": null,
   "id": "1d10ef69",
   "metadata": {},
   "outputs": [],
   "source": [
    "!pip install --upgrade tensorflow"
   ]
  },
  {
   "cell_type": "code",
   "execution_count": null,
   "id": "24b04aa5",
   "metadata": {},
   "outputs": [],
   "source": [
    "!pip uninstall protobuf matplotlib -y\n",
    "!pip install protobuf matplotlib==3.2"
   ]
  },
  {
   "cell_type": "code",
   "execution_count": null,
   "id": "45931437",
   "metadata": {},
   "outputs": [],
   "source": [
    "!pip install pyyaml google"
   ]
  },
  {
   "cell_type": "code",
   "execution_count": null,
   "id": "026d895f",
   "metadata": {},
   "outputs": [],
   "source": [
    "VERIFICATION_SCRIPT = os.path.join(paths['APIMODEL_PATH'], 'research', 'object_detection', 'builders', 'model_builder_tf2_test.py')\n",
    "# Verify Installation\n",
    "!python {VERIFICATION_SCRIPT}"
   ]
  },
  {
   "cell_type": "code",
   "execution_count": null,
   "id": "9ed7466a",
   "metadata": {},
   "outputs": [],
   "source": [
    "!pip list"
   ]
  },
  {
   "cell_type": "code",
   "execution_count": null,
   "id": "280a3c47",
   "metadata": {},
   "outputs": [],
   "source": [
    "!pip install opencv-python"
   ]
  },
  {
   "cell_type": "markdown",
   "id": "6c1493b7",
   "metadata": {},
   "source": [
    "# Start "
   ]
  },
  {
   "cell_type": "code",
   "execution_count": 6,
   "id": "d044283f",
   "metadata": {},
   "outputs": [],
   "source": [
    "from object_detection.utils import visualization_utils as viz_utils\n",
    "from object_detection.utils import label_map_util, config_util\n",
    "from object_detection.builders import model_builder\n",
    "import tensorflow as tf\n",
    "import numpy as np\n",
    "import cv2 as cv\n",
    "import os"
   ]
  },
  {
   "cell_type": "code",
   "execution_count": 7,
   "id": "064bb926",
   "metadata": {},
   "outputs": [],
   "source": [
    "labels = [\n",
    "          {'name':'Car', 'id':1}, \n",
    "          {'name':'Bus', 'id':2},\n",
    "          {'name':'Motorcycle', 'id':3},\n",
    "          {'name':'Truck', 'id':4},\n",
    "          {'name':'Ambulance', 'id':5}\n",
    "]\n",
    "\n",
    "with open(files['LABELMAP'], 'w+') as f:\n",
    "    for label in labels:\n",
    "        f.write('item { \\n')\n",
    "        f.write('\\tname:\\'{}\\'\\n'.format(label['name']))\n",
    "        f.write('\\tid:{}\\n'.format(label['id']))\n",
    "        f.write('}\\n')"
   ]
  },
  {
   "cell_type": "code",
   "execution_count": 8,
   "id": "ba6377db",
   "metadata": {},
   "outputs": [
    {
     "name": "stderr",
     "output_type": "stream",
     "text": [
      "x Tensorflow/workspace/models/SSD_MobileNet_V2_FPNLite_320x320/\n",
      "x Tensorflow/workspace/models/SSD_MobileNet_V2_FPNLite_320x320/ckpt-21.data-00000-of-00001\n",
      "x Tensorflow/workspace/models/SSD_MobileNet_V2_FPNLite_320x320/ckpt-18.index\n",
      "x Tensorflow/workspace/models/SSD_MobileNet_V2_FPNLite_320x320/train/\n",
      "x Tensorflow/workspace/models/SSD_MobileNet_V2_FPNLite_320x320/train/events.out.tfevents.1620800318.75b522acc719.287.1556.v2\n",
      "x Tensorflow/workspace/models/SSD_MobileNet_V2_FPNLite_320x320/checkpoint\n",
      "x Tensorflow/workspace/models/SSD_MobileNet_V2_FPNLite_320x320/ckpt-17.data-00000-of-00001\n",
      "x Tensorflow/workspace/models/SSD_MobileNet_V2_FPNLite_320x320/ckpt-16.index\n",
      "x Tensorflow/workspace/models/SSD_MobileNet_V2_FPNLite_320x320/ckpt-15.data-00000-of-00001\n",
      "x Tensorflow/workspace/models/SSD_MobileNet_V2_FPNLite_320x320/ckpt-15.index\n",
      "x Tensorflow/workspace/models/SSD_MobileNet_V2_FPNLite_320x320/eval/\n",
      "x Tensorflow/workspace/models/SSD_MobileNet_V2_FPNLite_320x320/eval/events.out.tfevents.1620803302.75b522acc719.951.1384.v2\n",
      "x Tensorflow/workspace/models/SSD_MobileNet_V2_FPNLite_320x320/pipeline.config\n",
      "x Tensorflow/workspace/models/SSD_MobileNet_V2_FPNLite_320x320/export/\n",
      "x Tensorflow/workspace/models/SSD_MobileNet_V2_FPNLite_320x320/export/checkpoint/\n",
      "x Tensorflow/workspace/models/SSD_MobileNet_V2_FPNLite_320x320/export/checkpoint/checkpoint\n",
      "x Tensorflow/workspace/models/SSD_MobileNet_V2_FPNLite_320x320/export/checkpoint/ckpt-0.data-00000-of-00001\n",
      "x Tensorflow/workspace/models/SSD_MobileNet_V2_FPNLite_320x320/export/checkpoint/ckpt-0.index\n",
      "x Tensorflow/workspace/models/SSD_MobileNet_V2_FPNLite_320x320/export/saved_model/\n",
      "x Tensorflow/workspace/models/SSD_MobileNet_V2_FPNLite_320x320/export/saved_model/saved_model.pb\n",
      "x Tensorflow/workspace/models/SSD_MobileNet_V2_FPNLite_320x320/export/saved_model/assets/\n",
      "x Tensorflow/workspace/models/SSD_MobileNet_V2_FPNLite_320x320/export/saved_model/variables/\n",
      "x Tensorflow/workspace/models/SSD_MobileNet_V2_FPNLite_320x320/export/saved_model/variables/variables.index\n",
      "x Tensorflow/workspace/models/SSD_MobileNet_V2_FPNLite_320x320/export/saved_model/variables/variables.data-00000-of-00001\n",
      "x Tensorflow/workspace/models/SSD_MobileNet_V2_FPNLite_320x320/export/pipeline.config\n",
      "x Tensorflow/workspace/models/SSD_MobileNet_V2_FPNLite_320x320/ckpt-20.data-00000-of-00001\n",
      "x Tensorflow/workspace/models/SSD_MobileNet_V2_FPNLite_320x320/ckpt-21.index\n",
      "x Tensorflow/workspace/models/SSD_MobileNet_V2_FPNLite_320x320/ckpt-19.index\n",
      "x Tensorflow/workspace/models/SSD_MobileNet_V2_FPNLite_320x320/ckpt-19.data-00000-of-00001\n",
      "x Tensorflow/workspace/models/SSD_MobileNet_V2_FPNLite_320x320/ckpt-20.index\n",
      "x Tensorflow/workspace/models/SSD_MobileNet_V2_FPNLite_320x320/ckpt-16.data-00000-of-00001\n",
      "x Tensorflow/workspace/models/SSD_MobileNet_V2_FPNLite_320x320/ckpt-18.data-00000-of-00001\n",
      "x Tensorflow/workspace/models/SSD_MobileNet_V2_FPNLite_320x320/ckpt-17.index\n"
     ]
    }
   ],
   "source": [
    "# ckpt_path = paths['CHECKPOINT_PATH']\n",
    "!tar -xzvf {os.path.join(paths['CHECKPOINT_PATH'],'models.tar.gz')}"
   ]
  },
  {
   "cell_type": "code",
   "execution_count": 9,
   "id": "497fc879",
   "metadata": {},
   "outputs": [],
   "source": [
    "import matplotlib.pyplot as plt\n",
    "import numpy as np\n",
    "\n",
    "@tf.function\n",
    "def detect_image(image):\n",
    "  image, shapes = detection_model.preprocess(image)\n",
    "  detections = detection_model.predict(image, shapes)\n",
    "  detections_dict = detection_model.postprocess(detections,shapes)\n",
    "  return detections_dict"
   ]
  },
  {
   "cell_type": "code",
   "execution_count": 10,
   "id": "253b57f4",
   "metadata": {},
   "outputs": [],
   "source": [
    "category_index = label_map_util.create_category_index_from_labelmap(files['LABELMAP'])"
   ]
  },
  {
   "cell_type": "code",
   "execution_count": 12,
   "id": "defa985c",
   "metadata": {},
   "outputs": [
    {
     "data": {
      "text/plain": [
       "<tensorflow.python.training.tracking.util.CheckpointLoadStatus at 0x15d3d5f27f0>"
      ]
     },
     "execution_count": 12,
     "metadata": {},
     "output_type": "execute_result"
    }
   ],
   "source": [
    "# Load pipeline config and build detection model\n",
    "configs = config_util.get_configs_from_pipeline_file(files['PIPELINE_CONFIG'])\n",
    "detection_model = model_builder.build(model_config=configs['model'], is_training=False)\n",
    "\n",
    "# Restore checkpoints\n",
    "ckpt = tf.compat.v2.train.Checkpoint(model=detection_model)\n",
    "ckpt.restore(os.path.join(paths['CHECKPOINT_PATH'],'ckpt-21')).expect_partial()"
   ]
  },
  {
   "cell_type": "code",
   "execution_count": 20,
   "id": "b9d1575c",
   "metadata": {},
   "outputs": [],
   "source": [
    "# cap = cv.VideoCapture('test-data/P1033666.mp4')\n",
    "width = int(cap.get(cv.CAP_PROP_FRAME_WIDTH))\n",
    "height = int(cap.get(cv.CAP_PROP_FRAME_HEIGHT))\n",
    "\n",
    "while cap.isOpened(): \n",
    "    ret, frame = cap.read()\n",
    "    image_np = np.array(frame)\n",
    "    \n",
    "    input_tensor = tf.convert_to_tensor(np.expand_dims(image_np, 0), dtype=tf.float32)\n",
    "    detections = detect_image(input_tensor)\n",
    "    \n",
    "    num_detections = int(detections.pop('num_detections'))\n",
    "    detections = {key: value[0, :num_detections].numpy()\n",
    "                  for key, value in detections.items()}\n",
    "    detections['num_detections'] = num_detections\n",
    "\n",
    "    # detection_classes should be ints.\n",
    "    detections['detection_classes'] = detections['detection_classes'].astype(np.int64)\n",
    "\n",
    "    label_id_offset = 1\n",
    "    image_np_with_detections = image_np.copy()\n",
    "\n",
    "    viz_utils.visualize_boxes_and_labels_on_image_array(\n",
    "                image_np_with_detections,\n",
    "                detections['detection_boxes'],\n",
    "                detections['detection_classes']+label_id_offset,\n",
    "                detections['detection_scores'],\n",
    "                category_index,\n",
    "                use_normalized_coordinates=True,\n",
    "                max_boxes_to_draw=10,\n",
    "                min_score_thresh=.5,\n",
    "                agnostic_mode=True,\n",
    "                line_thickness=10)\n",
    "\n",
    "    cv.imshow('object detection',  cv.resize(image_np_with_detections, (720, 480)))\n",
    "    \n",
    "    if cv.waitKey(10) & 0xFF == ord('q'):\n",
    "        cap.release()\n",
    "        cv.destroyAllWindows()\n",
    "        break"
   ]
  },
  {
   "cell_type": "code",
   "execution_count": null,
   "id": "a676a9ca",
   "metadata": {},
   "outputs": [],
   "source": []
  }
 ],
 "metadata": {
  "kernelspec": {
   "display_name": "tfod",
   "language": "python",
   "name": "tfod"
  },
  "language_info": {
   "codemirror_mode": {
    "name": "ipython",
    "version": 3
   },
   "file_extension": ".py",
   "mimetype": "text/x-python",
   "name": "python",
   "nbconvert_exporter": "python",
   "pygments_lexer": "ipython3",
   "version": "3.9.5"
  }
 },
 "nbformat": 4,
 "nbformat_minor": 5
}